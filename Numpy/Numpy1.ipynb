{
 "cells": [
  {
   "cell_type": "code",
   "execution_count": 1,
   "id": "4b3baad6",
   "metadata": {},
   "outputs": [],
   "source": [
    "import numpy as np"
   ]
  },
  {
   "cell_type": "code",
   "execution_count": 2,
   "id": "5c9f1dfb",
   "metadata": {},
   "outputs": [
    {
     "name": "stdout",
     "output_type": "stream",
     "text": [
      "[1 2 3 4 5 6 7 8 9 0]\n"
     ]
    },
    {
     "data": {
      "text/plain": [
       "(10,)"
      ]
     },
     "execution_count": 2,
     "metadata": {},
     "output_type": "execute_result"
    }
   ],
   "source": [
    "array=np.array([1,2,3,4,5,6,7,8,9,0])\n",
    "print(array)\n",
    "type(array)\n",
    "array.shape"
   ]
  },
  {
   "cell_type": "code",
   "execution_count": 3,
   "id": "a552a59a",
   "metadata": {},
   "outputs": [
    {
     "name": "stdout",
     "output_type": "stream",
     "text": [
      "[1 2 3 4 5]\n"
     ]
    },
    {
     "data": {
      "text/plain": [
       "(5,)"
      ]
     },
     "execution_count": 3,
     "metadata": {},
     "output_type": "execute_result"
    }
   ],
   "source": [
    "array=np.array((1, 2, 3, 4, 5))\n",
    "print(array)\n",
    "type(array)\n",
    "array.shape"
   ]
  },
  {
   "cell_type": "code",
   "execution_count": 4,
   "id": "1dacf90d",
   "metadata": {},
   "outputs": [
    {
     "name": "stdout",
     "output_type": "stream",
     "text": [
      "[[1 2 3]\n",
      " [4 5 6]]\n",
      "<class 'numpy.ndarray'>\n",
      "(2, 3)\n"
     ]
    }
   ],
   "source": [
    "#2-D Array\n",
    "array=np.array([[1,2,3],[4,5,6]])\n",
    "print(array)\n",
    "print(type(array))\n",
    "print(array.shape)"
   ]
  },
  {
   "cell_type": "code",
   "execution_count": 5,
   "id": "da52b0b7",
   "metadata": {},
   "outputs": [
    {
     "name": "stdout",
     "output_type": "stream",
     "text": [
      "[[[1 2 3]\n",
      "  [4 5 6]]\n",
      "\n",
      " [[1 2 3]\n",
      "  [4 5 6]]]\n",
      "<class 'numpy.ndarray'>\n",
      "(2, 2, 3)\n"
     ]
    }
   ],
   "source": [
    "#3-D Array\n",
    "array = np.array([[[1, 2, 3], [4, 5, 6]], [[1, 2, 3], [4, 5, 6]]])\n",
    "print(array)\n",
    "print(type(array))\n",
    "print(array.shape)"
   ]
  },
  {
   "cell_type": "code",
   "execution_count": 6,
   "id": "da978409",
   "metadata": {},
   "outputs": [
    {
     "name": "stdout",
     "output_type": "stream",
     "text": [
      "Number of dimensions of array a: 0 int32\n",
      "Number of dimensions of array b: 1 int32\n",
      "Number of dimensions of array c: 2 int32\n",
      "Number of dimensions of array d: 3 int32\n"
     ]
    }
   ],
   "source": [
    "a = np.array(42)\n",
    "b = np.array([1, 2, 3, 4, 5])\n",
    "c = np.array([[1, 2, 3], [4, 5, 6]])\n",
    "d = np.array([[[1, 2, 3], [4, 5, 6]], [[1, 2, 3], [4, 5, 6]]])\n",
    "\n",
    "print('Number of dimensions of array a:',a.ndim,a.dtype)\n",
    "print('Number of dimensions of array b:',b.ndim,b.dtype)\n",
    "print('Number of dimensions of array c:',c.ndim,c.dtype)\n",
    "print('Number of dimensions of array d:',d.ndim,d.dtype)"
   ]
  },
  {
   "cell_type": "code",
   "execution_count": 7,
   "id": "f588a8ca",
   "metadata": {},
   "outputs": [
    {
     "name": "stdout",
     "output_type": "stream",
     "text": [
      "1\n",
      "2\n",
      "4\n",
      "3\n"
     ]
    }
   ],
   "source": [
    "array = np.array([1, 2, 3, 4, 5])\n",
    "print(array[0])\n",
    "print(array[1])\n",
    "print(array[3])\n",
    "print(array[0]+array[1])"
   ]
  },
  {
   "cell_type": "code",
   "execution_count": 9,
   "id": "a014ef94",
   "metadata": {},
   "outputs": [
    {
     "name": "stdout",
     "output_type": "stream",
     "text": [
      "[[ 1  2  3  4  5]\n",
      " [ 6  7  8  9 10]]\n",
      "2nd element in first row 3\n",
      "4th element in second row 9\n",
      "5th element on 2nd row:  10\n"
     ]
    }
   ],
   "source": [
    "array = np.array([[1,2,3,4,5], [6,7,8,9,10]])\n",
    "print(array)\n",
    "print(\"2nd element in first row\",array[0][2])\n",
    "print(\"4th element in second row\",array[1][3])\n",
    "print('5th element on 2nd row: ', array[1, 4])"
   ]
  },
  {
   "cell_type": "code",
   "execution_count": 13,
   "id": "0aff1c4e",
   "metadata": {},
   "outputs": [
    {
     "name": "stdout",
     "output_type": "stream",
     "text": [
      "8\n",
      "['b' 'c' 'd']\n",
      "['a' 'b' 'c' 'd']\n",
      "['a' 'c']\n",
      "['c' '8']\n"
     ]
    }
   ],
   "source": [
    "array = np.array([[\"a\",\"b\",\"c\",\"d\",\"e\"], [6,7,8,9,10]])\n",
    "print(array[1,2])\n",
    "print(array[0,1:4])\n",
    "print(array[0][0:4])\n",
    "print(array[0][0:4:2])\n",
    "array = np.array([[\"a\",\"b\",\"c\",\"d\",\"e\"], [6,7,8,9,10]])\n",
    "print(array[0:2,2])"
   ]
  },
  {
   "cell_type": "code",
   "execution_count": 14,
   "id": "49309bc9",
   "metadata": {},
   "outputs": [
    {
     "name": "stdout",
     "output_type": "stream",
     "text": [
      "[1 3 5 7]\n"
     ]
    }
   ],
   "source": [
    "array = np.array([1, 2, 3, 4, 5, 6, 7])\n",
    "print(array[::2])"
   ]
  },
  {
   "cell_type": "code",
   "execution_count": 15,
   "id": "df8750cd",
   "metadata": {},
   "outputs": [
    {
     "name": "stdout",
     "output_type": "stream",
     "text": [
      "[[2 3 4]\n",
      " [7 8 9]]\n"
     ]
    }
   ],
   "source": [
    "array = np.array([[1, 2, 3, 4, 5], [6, 7, 8, 9, 10]])\n",
    "print(array[0:2,1:4])"
   ]
  },
  {
   "cell_type": "code",
   "execution_count": 16,
   "id": "35c2dd76",
   "metadata": {},
   "outputs": [
    {
     "name": "stdout",
     "output_type": "stream",
     "text": [
      "<U1\n",
      "int32\n"
     ]
    }
   ],
   "source": [
    "array=np.array([\"a\",\"b\",\"c\",\"d\",\"e\"])\n",
    "array1=np.array([1,2,3,4,5,6])\n",
    "print(array.dtype)\n",
    "print(array1.dtype)"
   ]
  },
  {
   "cell_type": "code",
   "execution_count": 17,
   "id": "2def807d",
   "metadata": {},
   "outputs": [
    {
     "name": "stdout",
     "output_type": "stream",
     "text": [
      "[1 2 3 4 5 6 7]\n",
      "[1 2 3 4 5]\n"
     ]
    }
   ],
   "source": [
    "array1=np.array([1.0,2.3,3.5,4.4,5.9,6.6,7.3], dtype=int)\n",
    "print(array1)\n",
    "array2=np.array([\"1\",\"2\",\"3\",\"4\",\"5\"])\n",
    "array2=array2.astype(int)\n",
    "print(array2)"
   ]
  },
  {
   "cell_type": "code",
   "execution_count": 18,
   "id": "c044dd6d",
   "metadata": {},
   "outputs": [
    {
     "data": {
      "text/plain": [
       "array([ True, False,  True])"
      ]
     },
     "execution_count": 18,
     "metadata": {},
     "output_type": "execute_result"
    }
   ],
   "source": [
    "arr = np.array([1, 0, 3])\n",
    "new_arr=arr.astype(bool)\n",
    "new_arr"
   ]
  },
  {
   "cell_type": "code",
   "execution_count": 19,
   "id": "536277f5",
   "metadata": {},
   "outputs": [
    {
     "name": "stdout",
     "output_type": "stream",
     "text": [
      "Original array - ['1' 'pranjal' 'revati' 'priya' '10' 'True']\n",
      "Copy of original array ['1' 'pranjal' '3.6' 'priya' '10' 'True']\n"
     ]
    }
   ],
   "source": [
    "arr1=np.array([1,\"pranjal\",3.6,\"priya\",10,True])\n",
    "arr2=np.copy(arr1)\n",
    "arr1[2]=\"revati\"\n",
    "print(\"Original array -\",arr1)\n",
    "print(\"Copy of original array\",arr2)"
   ]
  },
  {
   "cell_type": "code",
   "execution_count": 20,
   "id": "310e7c1f",
   "metadata": {},
   "outputs": [
    {
     "name": "stdout",
     "output_type": "stream",
     "text": [
      "[31  2  3  4  5]\n",
      "[31  2  3  4  5]\n"
     ]
    }
   ],
   "source": [
    "arr = np.array([1, 2, 3, 4, 5])\n",
    "x = arr.view()\n",
    "x[0] = 31\n",
    "\n",
    "print(arr)\n",
    "print(x)"
   ]
  },
  {
   "cell_type": "code",
   "execution_count": 21,
   "id": "7924b532",
   "metadata": {},
   "outputs": [
    {
     "data": {
      "text/plain": [
       "(3, 5)"
      ]
     },
     "execution_count": 21,
     "metadata": {},
     "output_type": "execute_result"
    }
   ],
   "source": [
    "array=np.array([[1,2,3,4,5],[11,12,13,14,15],[45,50,55,60,65]])\n",
    "array.shape"
   ]
  },
  {
   "cell_type": "code",
   "execution_count": 22,
   "id": "0be1ec3f",
   "metadata": {},
   "outputs": [
    {
     "name": "stdout",
     "output_type": "stream",
     "text": [
      "[[[1 2 3 4 5]]]\n",
      "(1, 1, 5)\n"
     ]
    }
   ],
   "source": [
    "arr1=np.array([1,2,3,4,5],ndmin=3)\n",
    "print(arr1)\n",
    "print(arr1.shape)"
   ]
  },
  {
   "cell_type": "code",
   "execution_count": 23,
   "id": "294678e6",
   "metadata": {},
   "outputs": [
    {
     "name": "stdout",
     "output_type": "stream",
     "text": [
      "(12,)\n",
      "[[ 1  2  3]\n",
      " [ 4  5  6]\n",
      " [ 7  8  9]\n",
      " [10 11 12]]\n",
      "Reshape of array (4, 3)\n"
     ]
    }
   ],
   "source": [
    "arr=np.array([1,2,3,4,5,6,7,8,9,10,11,12])\n",
    "print(arr.shape)\n",
    "arr2=arr.reshape(4,3)\n",
    "print(arr2)\n",
    "print(\"Reshape of array\",arr2.shape)"
   ]
  },
  {
   "cell_type": "code",
   "execution_count": 24,
   "id": "96208ea3",
   "metadata": {},
   "outputs": [
    {
     "data": {
      "text/plain": [
       "array([[[ 1,  2,  3],\n",
       "        [ 4,  5,  6]],\n",
       "\n",
       "       [[ 7,  8,  9],\n",
       "        [10, 11, 12]]])"
      ]
     },
     "execution_count": 24,
     "metadata": {},
     "output_type": "execute_result"
    }
   ],
   "source": [
    "arr=np.array([1,2,3,4,5,6,7,8,9,10,11,12])\n",
    "arr1=arr.reshape(2,2,3)\n",
    "arr1"
   ]
  },
  {
   "cell_type": "code",
   "execution_count": null,
   "id": "2cdedbeb",
   "metadata": {},
   "outputs": [],
   "source": []
  }
 ],
 "metadata": {
  "kernelspec": {
   "display_name": "Python 3 (ipykernel)",
   "language": "python",
   "name": "python3"
  },
  "language_info": {
   "codemirror_mode": {
    "name": "ipython",
    "version": 3
   },
   "file_extension": ".py",
   "mimetype": "text/x-python",
   "name": "python",
   "nbconvert_exporter": "python",
   "pygments_lexer": "ipython3",
   "version": "3.9.7"
  }
 },
 "nbformat": 4,
 "nbformat_minor": 5
}
